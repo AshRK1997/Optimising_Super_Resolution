{
 "cells": [
  {
   "cell_type": "code",
   "execution_count": 84,
   "metadata": {},
   "outputs": [],
   "source": [
    "from PIL import Image\n",
    "import os\n",
    "\n",
    "import tensorflow as tf\n",
    "from tensorflow.keras.utils import image_dataset_from_directory\n",
    "from tensorflow.keras.preprocessing.image import save_img, array_to_img, load_img, array_to_img\n",
    "\n",
    "from tensorflow.keras.layers import Add, Conv2D, Input, Lambda\n",
    "from tensorflow.keras.models import Model\n",
    "\n",
    "import numpy as np\n",
    "\n",
    "from PIL import Image"
   ]
  },
  {
   "cell_type": "code",
   "execution_count": 85,
   "metadata": {},
   "outputs": [],
   "source": [
    "train_hr_directory = './../dataset/train_dataset/HR/'\n",
    "train_lr_directory = './../dataset/train_dataset/LR/'\n",
    "\n",
    "valid_hr_directory = './../dataset/valid_dataset/HR/'\n",
    "valid_lr_directory = './../dataset/valid_dataset/LR/'"
   ]
  },
  {
   "cell_type": "code",
   "execution_count": 86,
   "metadata": {},
   "outputs": [],
   "source": [
    "train_dest_lr_dir = './../dataset_v3/train/LR/'\n",
    "train_dest_hr_dir = './../dataset_v3/train/HR/'\n",
    "\n",
    "test_dest_lr_dir = './../dataset_v3/test/LR/'\n",
    "test_dest_hr_dir = './../dataset_v3/test/HR/'"
   ]
  },
  {
   "cell_type": "code",
   "execution_count": 87,
   "metadata": {},
   "outputs": [],
   "source": [
    "BATCH_SIZE=8\n",
    "NUM_PARTS=2"
   ]
  },
  {
   "cell_type": "code",
   "execution_count": 88,
   "metadata": {},
   "outputs": [
    {
     "name": "stdout",
     "output_type": "stream",
     "text": [
      "Found 3250 files belonging to 1 classes.\n",
      "Found 3250 files belonging to 1 classes.\n"
     ]
    }
   ],
   "source": [
    "train_img_lr = image_dataset_from_directory(\n",
    "    train_lr_directory,\n",
    "    label_mode=None,\n",
    "    class_names=None,\n",
    "    color_mode='rgb',\n",
    "    batch_size=BATCH_SIZE,\n",
    "    image_size=(350, 350),\n",
    "    shuffle=False,\n",
    "    seed=None,\n",
    "    validation_split=None,\n",
    "    subset=None,\n",
    "    interpolation='mitchellcubic',\n",
    "    follow_links=False,\n",
    "    crop_to_aspect_ratio=False,\n",
    ")\n",
    "\n",
    "# interpolation='mitchellcubic',\n",
    "train_img_hr = image_dataset_from_directory(\n",
    "    train_hr_directory,\n",
    "    label_mode=None,\n",
    "    class_names=None,\n",
    "    color_mode='rgb',\n",
    "    batch_size=BATCH_SIZE,\n",
    "    image_size=(700, 700),\n",
    "    shuffle=False,\n",
    "    seed=None,\n",
    "    validation_split=None,\n",
    "    subset=None,\n",
    "    interpolation='mitchellcubic',\n",
    "    follow_links=False,\n",
    "    crop_to_aspect_ratio=False,\n",
    ")\n"
   ]
  },
  {
   "cell_type": "code",
   "execution_count": 89,
   "metadata": {},
   "outputs": [
    {
     "name": "stdout",
     "output_type": "stream",
     "text": [
      "Found 300 files belonging to 1 classes.\n",
      "Found 300 files belonging to 1 classes.\n"
     ]
    }
   ],
   "source": [
    "valid_img_lr = image_dataset_from_directory(\n",
    "    valid_lr_directory,\n",
    "    label_mode=None,\n",
    "    class_names=None,\n",
    "    color_mode='rgb',\n",
    "    batch_size=BATCH_SIZE,\n",
    "    image_size=(350, 350),\n",
    "    shuffle=False,\n",
    "    seed=None,\n",
    "    validation_split=None,\n",
    "    subset=None,\n",
    "    interpolation='mitchellcubic',\n",
    "    follow_links=False,\n",
    "    crop_to_aspect_ratio=False,\n",
    ")\n",
    "\n",
    "\n",
    "valid_img_hr = image_dataset_from_directory(\n",
    "    valid_hr_directory,\n",
    "    label_mode=None,\n",
    "    class_names=None,\n",
    "    color_mode='rgb',\n",
    "    batch_size=BATCH_SIZE,\n",
    "    image_size=(700, 700),\n",
    "    shuffle=False,\n",
    "    seed=None,\n",
    "    validation_split=None,\n",
    "    subset=None,\n",
    "    interpolation='mitchellcubic',\n",
    "    follow_links=False,\n",
    "    crop_to_aspect_ratio=False,\n",
    ")"
   ]
  },
  {
   "cell_type": "code",
   "execution_count": 90,
   "metadata": {},
   "outputs": [],
   "source": [
    "def split_image_into_parts(image_gen, output_dir, BATCH_SIZE):\n",
    "    \n",
    "    j = 0\n",
    "    \n",
    "    part_size=None\n",
    "    \n",
    "    for next_img_batch in image_gen:\n",
    "        \n",
    "        if part_size == None:\n",
    "            part_size = next_img_batch[0].shape[0] // NUM_PARTS\n",
    "        \n",
    "        i=0\n",
    "        for img_array in next_img_batch:\n",
    "            \n",
    "            for k in range(NUM_PARTS):\n",
    "                for l in range(NUM_PARTS):\n",
    "                    part = img_array[k*part_size:(k+1)*part_size, l*part_size:(l+1)*part_size]\n",
    "                    \n",
    "                    part_img = array_to_img(part)\n",
    "                    part_filename = f\"img_{j}_{i}_{NUM_PARTS*l+k}.png\"\n",
    "                    save_img(os.path.join(output_dir, part_filename), part_img)\n",
    "            i+=1\n",
    "            \n",
    "        j+=1\n"
   ]
  },
  {
   "cell_type": "code",
   "execution_count": 95,
   "metadata": {},
   "outputs": [],
   "source": [
    "split_image_into_parts(valid_img_lr, test_dest_lr_dir, BATCH_SIZE)"
   ]
  },
  {
   "cell_type": "code",
   "execution_count": null,
   "metadata": {},
   "outputs": [],
   "source": [
    "split_image_into_parts(valid_img_hr, test_dest_hr_dir, BATCH_SIZE)"
   ]
  },
  {
   "cell_type": "code",
   "execution_count": 93,
   "metadata": {},
   "outputs": [],
   "source": [
    "split_image_into_parts(train_img_lr, train_dest_lr_dir, BATCH_SIZE)"
   ]
  },
  {
   "cell_type": "code",
   "execution_count": 94,
   "metadata": {},
   "outputs": [],
   "source": [
    "split_image_into_parts(train_img_hr, train_dest_hr_dir, BATCH_SIZE)"
   ]
  },
  {
   "cell_type": "code",
   "execution_count": 37,
   "metadata": {},
   "outputs": [],
   "source": [
    "# Load the parts of the HR image\n",
    "hr_parts = [load_img(test_dest_hr_dir+f'/img_6_3_{i}.png', target_size=(350, 350), color_mode='rgb', interpolation='lanczos') for i in range(4)]\n",
    "\n",
    "# Combine the HR parts\n",
    "combined_hr_image = Image.new('RGB', (700, 700))\n",
    "combined_hr_image.paste(hr_parts[0], (0, 0))\n",
    "combined_hr_image.paste(hr_parts[1], (0, 350))\n",
    "combined_hr_image.paste(hr_parts[2], (350, 00))\n",
    "combined_hr_image.paste(hr_parts[3], (350, 350))\n",
    "\n",
    "# Display the combined HR image\n",
    "combined_hr_image.show()"
   ]
  }
 ],
 "metadata": {
  "kernelspec": {
   "display_name": "tf_gpu",
   "language": "python",
   "name": "python3"
  },
  "language_info": {
   "codemirror_mode": {
    "name": "ipython",
    "version": 3
   },
   "file_extension": ".py",
   "mimetype": "text/x-python",
   "name": "python",
   "nbconvert_exporter": "python",
   "pygments_lexer": "ipython3",
   "version": "3.9.16"
  },
  "orig_nbformat": 4
 },
 "nbformat": 4,
 "nbformat_minor": 2
}
