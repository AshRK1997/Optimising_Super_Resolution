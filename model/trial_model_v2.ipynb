{
 "cells": [
  {
   "cell_type": "code",
   "execution_count": 51,
   "metadata": {},
   "outputs": [],
   "source": [
    "import tensorflow as tf\n",
    "from tensorflow.keras.utils import image_dataset_from_directory\n",
    "\n",
    "from tensorflow.keras.preprocessing.image import load_img, img_to_array, array_to_img\n",
    "\n",
    "from tensorflow.keras.layers import Add, Conv2D, Input, Lambda\n",
    "from tensorflow.keras.models import Model\n",
    "from tensorflow.keras.regularizers import l2\n",
    "\n",
    "import numpy as np\n",
    "\n",
    "from IPython.display import Image\n",
    "\n",
    "from PIL import Image"
   ]
  },
  {
   "cell_type": "code",
   "execution_count": 52,
   "metadata": {},
   "outputs": [],
   "source": [
    "# Scaling is it required with tensorflow gen?\n",
    "# change the error to something else like similarity index\n",
    "# take a part of the image as input and provide SR for that part only"
   ]
  },
  {
   "cell_type": "code",
   "execution_count": 53,
   "metadata": {},
   "outputs": [],
   "source": [
    "train_dest_lr_dir = './../dataset_v3/train/LR/'\n",
    "train_dest_hr_dir = './../dataset_v3/train/HR/'\n",
    "\n",
    "test_dest_lr_dir = './../dataset_v3/test/LR/'\n",
    "test_dest_hr_dir = './../dataset_v3/test/HR/'"
   ]
  },
  {
   "cell_type": "code",
   "execution_count": 54,
   "metadata": {},
   "outputs": [],
   "source": [
    "def rescale(image):\n",
    "    return image / 255.0"
   ]
  },
  {
   "cell_type": "code",
   "execution_count": 55,
   "metadata": {},
   "outputs": [
    {
     "name": "stdout",
     "output_type": "stream",
     "text": [
      "Found 13000 files belonging to 1 classes.\n",
      "Using 11700 files for training.\n"
     ]
    }
   ],
   "source": [
    "train_img_lr = image_dataset_from_directory(\n",
    "    train_dest_lr_dir,\n",
    "    label_mode=None,\n",
    "    class_names=None,\n",
    "    color_mode='rgb',\n",
    "    batch_size=8,\n",
    "    image_size=(175, 175),\n",
    "    shuffle=False,\n",
    "    seed=None,\n",
    "    validation_split=0.1,\n",
    "    subset='training',\n",
    "    interpolation='lanczos5',\n",
    "    follow_links=False,\n",
    "    crop_to_aspect_ratio=False,\n",
    ").map(rescale)\n"
   ]
  },
  {
   "cell_type": "code",
   "execution_count": 56,
   "metadata": {},
   "outputs": [
    {
     "name": "stdout",
     "output_type": "stream",
     "text": [
      "Found 13000 files belonging to 1 classes.\n",
      "Using 11700 files for training.\n"
     ]
    }
   ],
   "source": [
    "train_img_hr = image_dataset_from_directory(\n",
    "    train_dest_hr_dir,\n",
    "    label_mode=None,\n",
    "    class_names=None,\n",
    "    color_mode='rgb',\n",
    "    batch_size=8,\n",
    "    image_size=(350, 350),\n",
    "    shuffle=False,\n",
    "    seed=None,\n",
    "    validation_split=0.1,\n",
    "    subset='training',\n",
    "    interpolation='lanczos5',\n",
    "    follow_links=False,\n",
    "    crop_to_aspect_ratio=False,\n",
    ").map(rescale)"
   ]
  },
  {
   "cell_type": "code",
   "execution_count": 57,
   "metadata": {},
   "outputs": [
    {
     "name": "stdout",
     "output_type": "stream",
     "text": [
      "Found 13000 files belonging to 1 classes.\n",
      "Using 1300 files for validation.\n"
     ]
    }
   ],
   "source": [
    "val_img_lr = image_dataset_from_directory(\n",
    "    train_dest_lr_dir,\n",
    "    label_mode=None,\n",
    "    class_names=None,\n",
    "    color_mode='rgb',\n",
    "    batch_size=8,\n",
    "    image_size=(175, 175),\n",
    "    shuffle=False,\n",
    "    seed=None,\n",
    "    validation_split=0.1,\n",
    "    subset='validation',\n",
    "    interpolation='lanczos5',\n",
    "    follow_links=False,\n",
    "    crop_to_aspect_ratio=False,\n",
    ").map(rescale)"
   ]
  },
  {
   "cell_type": "code",
   "execution_count": 58,
   "metadata": {},
   "outputs": [
    {
     "name": "stdout",
     "output_type": "stream",
     "text": [
      "Found 13000 files belonging to 1 classes.\n",
      "Using 1300 files for validation.\n"
     ]
    }
   ],
   "source": [
    "val_img_hr = image_dataset_from_directory(\n",
    "    train_dest_hr_dir,\n",
    "    label_mode=None,\n",
    "    class_names=None,\n",
    "    color_mode='rgb',\n",
    "    batch_size=8,\n",
    "    image_size=(350, 350),\n",
    "    shuffle=False,\n",
    "    seed=None,\n",
    "    validation_split=0.1,\n",
    "    subset='validation',\n",
    "    interpolation='lanczos5',\n",
    "    follow_links=False,\n",
    "    crop_to_aspect_ratio=False,\n",
    ").map(rescale)"
   ]
  },
  {
   "cell_type": "code",
   "execution_count": 59,
   "metadata": {},
   "outputs": [
    {
     "name": "stdout",
     "output_type": "stream",
     "text": [
      "Found 1200 files belonging to 1 classes.\n"
     ]
    }
   ],
   "source": [
    "test_img_lr = image_dataset_from_directory(\n",
    "    test_dest_lr_dir,\n",
    "    label_mode=None,\n",
    "    class_names=None,\n",
    "    color_mode='rgb',\n",
    "    batch_size=8,\n",
    "    image_size=(175, 175),\n",
    "    shuffle=False,\n",
    "    seed=None,\n",
    "    validation_split=None,\n",
    "    subset=None,\n",
    "    interpolation='lanczos5',\n",
    "    follow_links=False,\n",
    "    crop_to_aspect_ratio=False,\n",
    ").map(rescale)\n"
   ]
  },
  {
   "cell_type": "code",
   "execution_count": 60,
   "metadata": {},
   "outputs": [
    {
     "name": "stdout",
     "output_type": "stream",
     "text": [
      "Found 1200 files belonging to 1 classes.\n"
     ]
    }
   ],
   "source": [
    "test_img_hr = image_dataset_from_directory(\n",
    "    test_dest_hr_dir,\n",
    "    label_mode=None,\n",
    "    class_names=None,\n",
    "    color_mode='rgb',\n",
    "    batch_size=8,\n",
    "    image_size=(350, 350),\n",
    "    shuffle=False,\n",
    "    seed=None,\n",
    "    validation_split=None,\n",
    "    subset=None,\n",
    "    interpolation='lanczos5',\n",
    "    follow_links=False,\n",
    "    crop_to_aspect_ratio=False,\n",
    ").map(rescale)\n",
    "\n"
   ]
  },
  {
   "cell_type": "code",
   "execution_count": 61,
   "metadata": {},
   "outputs": [],
   "source": [
    "image_batch_hr = next(iter(train_img_hr))\n",
    "\n",
    "image_batch_lr = next(iter(train_img_lr))"
   ]
  },
  {
   "cell_type": "code",
   "execution_count": 62,
   "metadata": {},
   "outputs": [
    {
     "data": {
      "image/png": "[encoded data removed]",
      "text/plain": [
       "<PIL.Image.Image image mode=RGB size=175x175 at 0x2057D232AF0>"
      ]
     },
     "execution_count": 62,
     "metadata": {},
     "output_type": "execute_result"
    }
   ],
   "source": [
    "tf.keras.preprocessing.image.array_to_img(image_batch_lr[7])"
   ]
  },
  {
   "cell_type": "code",
   "execution_count": 63,
   "metadata": {},
   "outputs": [
    {
     "data": {
      "image/png": "[encoded data removed]",
      "text/plain": [
       "<PIL.Image.Image image mode=RGB size=175x175 at 0x2057D1F5D00>"
      ]
     },
     "execution_count": 63,
     "metadata": {},
     "output_type": "execute_result"
    }
   ],
   "source": [
    "tf.keras.preprocessing.image.array_to_img(image_batch_lr[7])"
   ]
  },
  {
   "cell_type": "code",
   "execution_count": 64,
   "metadata": {},
   "outputs": [],
   "source": [
    "# def edsr(scale, num_filters=64, num_res_blocks=8, res_block_scaling=None):\n",
    "#     \"\"\"Creates an EDSR model.\"\"\"\n",
    "#     x_in = Input(shape=(None, None, 3))\n",
    "#     x = b = Conv2D(num_filters, 3, padding='same')(x_in)\n",
    "#     for i in range(num_res_blocks):\n",
    "#         b = res_block(b, num_filters, res_block_scaling)\n",
    "#     b = Conv2D(num_filters, 3, padding='same')(b)\n",
    "#     x = Add()([x, b])\n",
    "\n",
    "#     x = upsample(x, scale, num_filters)\n",
    "#     x = Conv2D(3, 3, padding='same')(x)\n",
    "\n",
    "#     return Model(x_in, x, name=\"edsr\")\n",
    "\n",
    "def edsr(scale, num_filters=64, num_res_blocks=8, res_block_scaling=None, l2_reg=1e-4):\n",
    "    \"\"\"Creates an EDSR model.\"\"\"\n",
    "    x_in = Input(shape=(None, None, 3))\n",
    "    x = b = Conv2D(num_filters, 3, padding='same', kernel_regularizer=l2(l2_reg))(x_in)\n",
    "    for i in range(num_res_blocks):\n",
    "        b = res_block(b, num_filters, res_block_scaling)\n",
    "    b = Conv2D(num_filters, 3, padding='same')(b)\n",
    "    x = Add()([x, b])\n",
    "\n",
    "    x = upsample(x, scale, num_filters)\n",
    "    x = Conv2D(3, 3, padding='same', kernel_regularizer=l2(l2_reg))(x)\n",
    "\n",
    "    return Model(x_in, x, name=\"edsr\")\n",
    "\n",
    "\n",
    "def res_block(x_in, filters, scaling):\n",
    "    \"\"\"Creates an EDSR residual block.\"\"\"\n",
    "    x = Conv2D(filters, 3, padding='same', activation='relu')(x_in)\n",
    "    x = Conv2D(filters, 3, padding='same')(x)\n",
    "    if scaling:\n",
    "        x = Lambda(lambda t: t * scaling)(x)\n",
    "    x = Add()([x_in, x])\n",
    "    return x\n",
    "\n",
    "def upsample(x, scale, num_filters):\n",
    "    def upsample_1(x, factor, **kwargs):\n",
    "        \"\"\"Sub-pixel convolution.\"\"\"\n",
    "        x = Conv2D(num_filters * (factor ** 2), 3, padding='same', **kwargs)(x)\n",
    "        return PixelShuffle(scale=factor)(x)\n",
    "\n",
    "    if scale > 2:\n",
    "        x = upsample_1(x, 2, name='upsample_1')\n",
    "        x = upsample_1(x, 2, name='upsample_2')\n",
    "    else:\n",
    "        x = upsample_1(x, scale, name='upsample_1')\n",
    "\n",
    "    return x\n",
    "\n",
    "\n",
    "class PixelShuffle(tf.keras.layers.Layer):\n",
    "    def __init__(self, scale, **kwargs):\n",
    "        super(PixelShuffle, self).__init__(**kwargs)\n",
    "        self.scale = scale\n",
    "\n",
    "    def call(self, inputs):\n",
    "        return tf.nn.depth_to_space(inputs, self.scale)\n",
    "\n",
    "    def get_config(self):\n",
    "        config = super(PixelShuffle, self).get_config()\n",
    "        config.update({\"scale\": self.scale})\n",
    "        return config\n",
    "\n"
   ]
  },
  {
   "cell_type": "code",
   "execution_count": 65,
   "metadata": {},
   "outputs": [],
   "source": [
    "\n",
    "# Create a single dataset with (input, target) pairs\n",
    "# train_dataset = tf.data.Dataset.zip((list(train_img_lr.as_numpy_iterator()), list(train_img_hr.as_numpy_iterator())))\n",
    "\n",
    "train_dataset = tf.data.Dataset.zip((train_img_lr, train_img_hr))\n",
    "val_dataset = tf.data.Dataset.zip((val_img_lr, val_img_hr))"
   ]
  },
  {
   "cell_type": "code",
   "execution_count": 66,
   "metadata": {},
   "outputs": [],
   "source": [
    "# def combined_loss(alpha=0.9):\n",
    "#     def loss(y_true, y_pred):\n",
    "#         mse = tf.reduce_mean(tf.square(y_true - y_pred))\n",
    "#         ssim = tf.image.ssim(y_true, y_pred, max_val=1.0)\n",
    "#         return alpha * (1.0 - ssim) + (1.0 - alpha) * mse\n",
    "#     return loss\n",
    "\n",
    "def combined_loss():\n",
    "    def loss(y_true, y_pred):\n",
    "        mse = tf.reduce_mean(tf.square(y_true - y_pred))\n",
    "        ssim = tf.image.ssim(y_true, y_pred, max_val=1.0)\n",
    "        return mse\n",
    "    return loss\n",
    "\n",
    "# Define early stopping\n",
    "early_stopping = tf.keras.callbacks.EarlyStopping(\n",
    "    monitor='val_loss',\n",
    "    patience=5,  # Number of epochs with no improvement after which training will be stopped\n",
    "    restore_best_weights=True\n",
    ")"
   ]
  },
  {
   "cell_type": "code",
   "execution_count": 67,
   "metadata": {},
   "outputs": [],
   "source": [
    "# Create the EDSR model.\n",
    "model = edsr(scale=2, num_filters=64, num_res_blocks=7, res_block_scaling=None)\n",
    "\n",
    "# Compile the model\n",
    "\n",
    "# model.compile(optimizer=tf.keras.optimizers.Adam(learning_rate=0.0005), loss=tf.keras.losses.MeanAbsoluteError())\n",
    "# model.compile(optimizer=tf.keras.optimizers.Adam(learning_rate=0.0003), loss='mean_squared_error') \n",
    "model.compile(optimizer=tf.keras.optimizers.Adam(learning_rate=0.0003), loss='mean_absolute_error')"
   ]
  },
  {
   "cell_type": "code",
   "execution_count": 68,
   "metadata": {},
   "outputs": [
    {
     "name": "stdout",
     "output_type": "stream",
     "text": [
      "Model: \"edsr\"\n",
      "__________________________________________________________________________________________________\n",
      "Layer (type)                    Output Shape         Param #     Connected to                     \n",
      "==================================================================================================\n",
      "input_2 (InputLayer)            [(None, None, None,  0                                            \n",
      "__________________________________________________________________________________________________\n",
      "conv2d_17 (Conv2D)              (None, None, None, 6 1792        input_2[0][0]                    \n",
      "__________________________________________________________________________________________________\n",
      "conv2d_18 (Conv2D)              (None, None, None, 6 36928       conv2d_17[0][0]                  \n",
      "__________________________________________________________________________________________________\n",
      "conv2d_19 (Conv2D)              (None, None, None, 6 36928       conv2d_18[0][0]                  \n",
      "__________________________________________________________________________________________________\n",
      "add_8 (Add)                     (None, None, None, 6 0           conv2d_17[0][0]                  \n",
      "                                                                 conv2d_19[0][0]                  \n",
      "__________________________________________________________________________________________________\n",
      "conv2d_20 (Conv2D)              (None, None, None, 6 36928       add_8[0][0]                      \n",
      "__________________________________________________________________________________________________\n",
      "conv2d_21 (Conv2D)              (None, None, None, 6 36928       conv2d_20[0][0]                  \n",
      "__________________________________________________________________________________________________\n",
      "add_9 (Add)                     (None, None, None, 6 0           add_8[0][0]                      \n",
      "                                                                 conv2d_21[0][0]                  \n",
      "__________________________________________________________________________________________________\n",
      "conv2d_22 (Conv2D)              (None, None, None, 6 36928       add_9[0][0]                      \n",
      "__________________________________________________________________________________________________\n",
      "conv2d_23 (Conv2D)              (None, None, None, 6 36928       conv2d_22[0][0]                  \n",
      "__________________________________________________________________________________________________\n",
      "add_10 (Add)                    (None, None, None, 6 0           add_9[0][0]                      \n",
      "                                                                 conv2d_23[0][0]                  \n",
      "__________________________________________________________________________________________________\n",
      "conv2d_24 (Conv2D)              (None, None, None, 6 36928       add_10[0][0]                     \n",
      "__________________________________________________________________________________________________\n",
      "conv2d_25 (Conv2D)              (None, None, None, 6 36928       conv2d_24[0][0]                  \n",
      "__________________________________________________________________________________________________\n",
      "add_11 (Add)                    (None, None, None, 6 0           add_10[0][0]                     \n",
      "                                                                 conv2d_25[0][0]                  \n",
      "__________________________________________________________________________________________________\n",
      "conv2d_26 (Conv2D)              (None, None, None, 6 36928       add_11[0][0]                     \n",
      "__________________________________________________________________________________________________\n",
      "conv2d_27 (Conv2D)              (None, None, None, 6 36928       conv2d_26[0][0]                  \n",
      "__________________________________________________________________________________________________\n",
      "add_12 (Add)                    (None, None, None, 6 0           add_11[0][0]                     \n",
      "                                                                 conv2d_27[0][0]                  \n",
      "__________________________________________________________________________________________________\n",
      "conv2d_28 (Conv2D)              (None, None, None, 6 36928       add_12[0][0]                     \n",
      "__________________________________________________________________________________________________\n",
      "conv2d_29 (Conv2D)              (None, None, None, 6 36928       conv2d_28[0][0]                  \n",
      "__________________________________________________________________________________________________\n",
      "add_13 (Add)                    (None, None, None, 6 0           add_12[0][0]                     \n",
      "                                                                 conv2d_29[0][0]                  \n",
      "__________________________________________________________________________________________________\n",
      "conv2d_30 (Conv2D)              (None, None, None, 6 36928       add_13[0][0]                     \n",
      "__________________________________________________________________________________________________\n",
      "conv2d_31 (Conv2D)              (None, None, None, 6 36928       conv2d_30[0][0]                  \n",
      "__________________________________________________________________________________________________\n",
      "add_14 (Add)                    (None, None, None, 6 0           add_13[0][0]                     \n",
      "                                                                 conv2d_31[0][0]                  \n",
      "__________________________________________________________________________________________________\n",
      "conv2d_32 (Conv2D)              (None, None, None, 6 36928       add_14[0][0]                     \n",
      "__________________________________________________________________________________________________\n",
      "add_15 (Add)                    (None, None, None, 6 0           conv2d_17[0][0]                  \n",
      "                                                                 conv2d_32[0][0]                  \n",
      "__________________________________________________________________________________________________\n",
      "upsample_1 (Conv2D)             (None, None, None, 2 147712      add_15[0][0]                     \n",
      "__________________________________________________________________________________________________\n",
      "pixel_shuffle_1 (PixelShuffle)  (None, None, None, 6 0           upsample_1[0][0]                 \n",
      "__________________________________________________________________________________________________\n",
      "conv2d_33 (Conv2D)              (None, None, None, 3 1731        pixel_shuffle_1[0][0]            \n",
      "==================================================================================================\n",
      "Total params: 705,155\n",
      "Trainable params: 705,155\n",
      "Non-trainable params: 0\n",
      "__________________________________________________________________________________________________\n"
     ]
    }
   ],
   "source": [
    "model.summary()"
   ]
  },
  {
   "cell_type": "code",
   "execution_count": 40,
   "metadata": {},
   "outputs": [
    {
     "name": "stdout",
     "output_type": "stream",
     "text": [
      "Epoch 1/100\n",
      "1553/1553 [==============================] - 391s 241ms/step - loss: 0.0729 - val_loss: 0.0549\n",
      "Epoch 2/100\n",
      "1553/1553 [==============================] - 390s 251ms/step - loss: 0.0652 - val_loss: 0.0522\n",
      "Epoch 3/100\n",
      "1553/1553 [==============================] - 393s 253ms/step - loss: 0.0636 - val_loss: 0.0540\n",
      "Epoch 4/100\n",
      "1553/1553 [==============================] - 393s 253ms/step - loss: 0.0630 - val_loss: 0.0491\n",
      "Epoch 5/100\n",
      "1553/1553 [==============================] - 392s 252ms/step - loss: 0.0630 - val_loss: 0.0529\n",
      "Epoch 6/100\n",
      "1553/1553 [==============================] - 392s 252ms/step - loss: 0.0616 - val_loss: 0.0471\n",
      "Epoch 7/100\n",
      "1553/1553 [==============================] - 391s 252ms/step - loss: 0.0610 - val_loss: 0.0477\n",
      "Epoch 8/100\n",
      "1553/1553 [==============================] - 392s 252ms/step - loss: 0.0604 - val_loss: 0.0504\n",
      "Epoch 9/100\n",
      "1553/1553 [==============================] - 392s 252ms/step - loss: 0.0600 - val_loss: 0.0496\n",
      "Epoch 10/100\n",
      "1553/1553 [==============================] - 391s 252ms/step - loss: 0.0600 - val_loss: 0.0502\n",
      "Epoch 11/100\n",
      "1553/1553 [==============================] - 392s 252ms/step - loss: 0.0592 - val_loss: 0.0488\n"
     ]
    },
    {
     "data": {
      "text/plain": [
       "<tensorflow.python.keras.callbacks.History at 0x245a3c21ee0>"
      ]
     },
     "execution_count": 40,
     "metadata": {},
     "output_type": "execute_result"
    }
   ],
   "source": [
    "# model_v6\n",
    "# epochs - 21\n",
    "# Now you can train your model\n",
    "model.fit(\n",
    "    train_dataset,\n",
    "    epochs=100,\n",
    "    validation_data=val_dataset,  # Add validation data here\n",
    "    callbacks=[early_stopping]  # Add early stopping callback\n",
    ")"
   ]
  },
  {
   "cell_type": "code",
   "execution_count": 49,
   "metadata": {},
   "outputs": [
    {
     "name": "stdout",
     "output_type": "stream",
     "text": [
      "Epoch 1/100\n",
      "1553/1553 [==============================] - 384s 247ms/step - loss: 0.0613 - val_loss: 0.0492\n",
      "Epoch 2/100\n",
      "1553/1553 [==============================] - 390s 251ms/step - loss: 0.0603 - val_loss: 0.0487\n",
      "Epoch 3/100\n",
      "1553/1553 [==============================] - 391s 252ms/step - loss: 0.0602 - val_loss: 0.0514\n",
      "Epoch 4/100\n",
      "1553/1553 [==============================] - 392s 252ms/step - loss: 0.0596 - val_loss: 0.0488\n",
      "Epoch 5/100\n",
      "1553/1553 [==============================] - 392s 252ms/step - loss: 0.0595 - val_loss: 0.0489\n",
      "Epoch 6/100\n",
      "1553/1553 [==============================] - 393s 253ms/step - loss: 0.0590 - val_loss: 0.0491\n",
      "Epoch 7/100\n",
      "1553/1553 [==============================] - 393s 253ms/step - loss: 0.0584 - val_loss: 0.0482\n",
      "Epoch 8/100\n",
      "1553/1553 [==============================] - 394s 254ms/step - loss: 0.0583 - val_loss: 0.0491\n",
      "Epoch 9/100\n",
      "1553/1553 [==============================] - 394s 254ms/step - loss: 0.0586 - val_loss: 0.0472\n",
      "Epoch 10/100\n",
      "1553/1553 [==============================] - 395s 254ms/step - loss: 0.0577 - val_loss: 0.0480\n",
      "Epoch 11/100\n",
      "1553/1553 [==============================] - 395s 255ms/step - loss: 0.0575 - val_loss: 0.0477\n",
      "Epoch 12/100\n",
      "1553/1553 [==============================] - 395s 254ms/step - loss: 0.0612 - val_loss: 0.0527\n",
      "Epoch 13/100\n",
      "1553/1553 [==============================] - 391s 252ms/step - loss: 0.0594 - val_loss: 0.0488\n",
      "Epoch 14/100\n",
      "1553/1553 [==============================] - 390s 251ms/step - loss: 0.0568 - val_loss: 0.0482\n"
     ]
    },
    {
     "data": {
      "text/plain": [
       "<tensorflow.python.keras.callbacks.History at 0x245def0fe80>"
      ]
     },
     "execution_count": 49,
     "metadata": {},
     "output_type": "execute_result"
    }
   ],
   "source": [
    "# model_v6\n",
    "model.fit(\n",
    "    train_dataset,\n",
    "    epochs=100,\n",
    "    validation_data=val_dataset,  # Add validation data here\n",
    "    callbacks=[early_stopping]  # Add early stopping callback\n",
    ")"
   ]
  },
  {
   "cell_type": "code",
   "execution_count": 69,
   "metadata": {},
   "outputs": [
    {
     "name": "stdout",
     "output_type": "stream",
     "text": [
      "Epoch 1/100\n",
      "1463/1463 [==============================] - 1165s 789ms/step - loss: 0.0594 - val_loss: 0.0580\n",
      "Epoch 2/100\n",
      "1463/1463 [==============================] - 2157s 1s/step - loss: 0.0507 - val_loss: 0.0554\n",
      "Epoch 3/100\n",
      "1463/1463 [==============================] - 398s 272ms/step - loss: 0.0487 - val_loss: 0.0509\n",
      "Epoch 4/100\n",
      "1463/1463 [==============================] - 404s 276ms/step - loss: 0.0476 - val_loss: 0.0477\n",
      "Epoch 5/100\n",
      "1463/1463 [==============================] - 405s 277ms/step - loss: 0.0468 - val_loss: 0.0474\n",
      "Epoch 6/100\n",
      "1463/1463 [==============================] - 404s 276ms/step - loss: 0.0462 - val_loss: 0.0451\n",
      "Epoch 7/100\n",
      "1463/1463 [==============================] - 404s 276ms/step - loss: 0.0456 - val_loss: 0.0458\n",
      "Epoch 8/100\n",
      "1463/1463 [==============================] - 404s 276ms/step - loss: 0.0452 - val_loss: 0.0455\n",
      "Epoch 9/100\n",
      "1463/1463 [==============================] - 404s 276ms/step - loss: 0.0448 - val_loss: 0.0449\n",
      "Epoch 10/100\n",
      "1463/1463 [==============================] - 404s 276ms/step - loss: 0.0446 - val_loss: 0.0429\n",
      "Epoch 11/100\n",
      "1463/1463 [==============================] - 404s 276ms/step - loss: 0.0441 - val_loss: 0.0446\n",
      "Epoch 12/100\n",
      "1463/1463 [==============================] - 404s 276ms/step - loss: 0.0439 - val_loss: 0.0414\n",
      "Epoch 13/100\n",
      "1463/1463 [==============================] - 404s 276ms/step - loss: 0.0437 - val_loss: 0.0425\n",
      "Epoch 14/100\n",
      "1463/1463 [==============================] - 403s 276ms/step - loss: 0.0438 - val_loss: 0.0426\n",
      "Epoch 15/100\n",
      "1463/1463 [==============================] - 403s 276ms/step - loss: 0.0433 - val_loss: 0.0417\n",
      "Epoch 16/100\n",
      "1463/1463 [==============================] - 403s 276ms/step - loss: 0.0432 - val_loss: 0.0418\n",
      "Epoch 17/100\n",
      "1463/1463 [==============================] - 403s 276ms/step - loss: 0.0431 - val_loss: 0.0404\n",
      "Epoch 18/100\n",
      "1463/1463 [==============================] - 403s 275ms/step - loss: 0.0429 - val_loss: 0.0418\n",
      "Epoch 19/100\n",
      "1463/1463 [==============================] - 403s 275ms/step - loss: 0.0428 - val_loss: 0.0417\n",
      "Epoch 20/100\n",
      "1463/1463 [==============================] - 402s 275ms/step - loss: 0.0440 - val_loss: 0.0426\n",
      "Epoch 21/100\n",
      "1463/1463 [==============================] - 403s 275ms/step - loss: 0.0425 - val_loss: 0.0420\n",
      "Epoch 22/100\n",
      "1463/1463 [==============================] - 403s 275ms/step - loss: 0.0425 - val_loss: 0.0414\n"
     ]
    },
    {
     "data": {
      "text/plain": [
       "<tensorflow.python.keras.callbacks.History at 0x2057ce600a0>"
      ]
     },
     "execution_count": 69,
     "metadata": {},
     "output_type": "execute_result"
    }
   ],
   "source": [
    "# model_v7\n",
    "\n",
    "model.fit(\n",
    "    train_dataset,\n",
    "    epochs=100,\n",
    "    validation_data=val_dataset,  # Add validation data here\n",
    "    callbacks=[early_stopping]  # Add early stopping callback\n",
    ")"
   ]
  },
  {
   "cell_type": "code",
   "execution_count": 70,
   "metadata": {},
   "outputs": [
    {
     "name": "stderr",
     "output_type": "stream",
     "text": [
      "c:\\Users\\Ashwin RK\\.conda\\envs\\tf_gpu\\lib\\site-packages\\tensorflow\\python\\keras\\utils\\generic_utils.py:494: CustomMaskWarning: Custom mask layers require a config and must override get_config. When loading, the custom mask layer must be passed to the custom_objects argument.\n",
      "  warnings.warn('Custom mask layers require a config and must override '\n"
     ]
    }
   ],
   "source": [
    "model.save(\"edsr_fullimage_sr_model_v7.h5\")"
   ]
  },
  {
   "cell_type": "code",
   "execution_count": 71,
   "metadata": {},
   "outputs": [
    {
     "name": "stdout",
     "output_type": "stream",
     "text": [
      "150/150 [==============================] - 15s 98ms/step - loss: 0.0627\n",
      "Test loss: 0.06269253045320511\n"
     ]
    }
   ],
   "source": [
    "test_dataset = tf.data.Dataset.zip((test_img_lr, test_img_hr))\n",
    "\n",
    "loss = model.evaluate(test_dataset)\n",
    "print('Test loss:', loss)"
   ]
  },
  {
   "cell_type": "code",
   "execution_count": 35,
   "metadata": {},
   "outputs": [
    {
     "name": "stdout",
     "output_type": "stream",
     "text": [
      "50/50 [==============================] - 4s 84ms/step - loss: 0.0984\n",
      "Test loss: 0.09843159466981888\n"
     ]
    }
   ],
   "source": [
    "test_dataset = tf.data.Dataset.zip((test_img_lr, test_img_hr))\n",
    "\n",
    "loss = model.evaluate(test_dataset)\n",
    "print('Test loss:', loss)"
   ]
  },
  {
   "cell_type": "code",
   "execution_count": 20,
   "metadata": {},
   "outputs": [],
   "source": [
    "from tensorflow.keras.models import load_model\n",
    "\n",
    "model_lodaded = load_model('edsr_fullimage_sr_model_v6.h5', custom_objects={'PixelShuffle': PixelShuffle})"
   ]
  },
  {
   "cell_type": "code",
   "execution_count": 21,
   "metadata": {},
   "outputs": [
    {
     "name": "stdout",
     "output_type": "stream",
     "text": [
      "150/150 [==============================] - 38s 245ms/step - loss: 0.1468\n",
      "Test loss: 0.14676429331302643\n"
     ]
    }
   ],
   "source": [
    "test_dataset = tf.data.Dataset.zip((test_img_lr, test_img_hr))\n",
    "\n",
    "loss = model_lodaded.evaluate(test_dataset)\n",
    "print('Test loss:', loss)"
   ]
  },
  {
   "cell_type": "code",
   "execution_count": 49,
   "metadata": {},
   "outputs": [],
   "source": [
    "\n",
    "\n",
    "# Load the parts of the image\n",
    "parts = [load_img(test_dest_lr_dir+f'/img_0_4_{i}.png', target_size=(175, 175)) for i in range(4)]\n",
    "\n",
    "# Convert the parts to numpy arrays and rescale them\n",
    "parts_arrays = [img_to_array(part) / 255.0 for part in parts]\n",
    "\n",
    "# Add an extra dimension to match the batch shape expected by the model\n",
    "parts_arrays = [np.expand_dims(part_array, axis=0) for part_array in parts_arrays]\n",
    "\n",
    "# Make a prediction for each part\n",
    "predictions = [model_lodaded.predict(part_array) for part_array in parts_arrays]\n",
    "\n",
    "# Remove the extra dimension and rescale the pixel values\n",
    "predictions = [np.squeeze(prediction, axis=0) * 255.0 for prediction in predictions]\n",
    "\n",
    "# Convert to PIL Images\n",
    "predicted_parts = [array_to_img(prediction) for prediction in predictions]\n",
    "\n",
    "# Combine the predicted parts\n",
    "combined_image = Image.new('RGB', (700, 700))\n",
    "combined_image.paste(predicted_parts[0], (0, 0))\n",
    "combined_image.paste(predicted_parts[1], (0, 350))\n",
    "combined_image.paste(predicted_parts[2], (350, 0))\n",
    "combined_image.paste(predicted_parts[3], (350,350 ))\n",
    "\n",
    "combined_image.show()\n"
   ]
  },
  {
   "cell_type": "code",
   "execution_count": 50,
   "metadata": {},
   "outputs": [],
   "source": [
    "# Load the parts of the HR image\n",
    "hr_parts = [load_img(test_dest_hr_dir+f'/img_0_4_{i}.png', target_size=(350, 350)) for i in range(4)]\n",
    "\n",
    "# Combine the HR parts\n",
    "combined_hr_image = Image.new('RGB', (700, 700))\n",
    "combined_hr_image.paste(hr_parts[0], (0, 0))\n",
    "combined_hr_image.paste(hr_parts[1], (0, 350))\n",
    "combined_hr_image.paste(hr_parts[2], (350, 00))\n",
    "combined_hr_image.paste(hr_parts[3], (350, 350))\n",
    "\n",
    "# Display the combined HR image\n",
    "combined_hr_image.show()"
   ]
  },
  {
   "cell_type": "code",
   "execution_count": 72,
   "metadata": {},
   "outputs": [
    {
     "name": "stdout",
     "output_type": "stream",
     "text": [
      "Train PSNR: 23.77392578125, Train SSIM: 0.7487143874168396\n",
      "Test PSNR: 21.38936424255371, Test SSIM: 0.6321719288825989\n"
     ]
    }
   ],
   "source": [
    "def calculate_metrics(dataset, model):\n",
    "    psnr_values = []\n",
    "    ssim_values = []\n",
    "\n",
    "    for lr, hr in dataset:\n",
    "        # Generate SR images from the LR images\n",
    "        sr = model.predict(lr)\n",
    "\n",
    "        # Calculate PSNR and SSIM for each image in the batch\n",
    "        for i in range(sr.shape[0]):\n",
    "            psnr = tf.image.psnr(hr[i], sr[i], max_val=1.0)\n",
    "            ssim = tf.image.ssim(hr[i], sr[i], max_val=1.0)\n",
    "\n",
    "            psnr_values.append(psnr.numpy())\n",
    "            ssim_values.append(ssim.numpy())\n",
    "\n",
    "    # Calculate the average PSNR and SSIM\n",
    "    avg_psnr = np.mean(psnr_values)\n",
    "    avg_ssim = np.mean(ssim_values)\n",
    "\n",
    "    return avg_psnr, avg_ssim\n",
    "\n",
    "# Calculate metrics for the training and test datasets\n",
    "train_psnr, train_ssim = calculate_metrics(train_dataset, model_lodaded)\n",
    "test_psnr, test_ssim = calculate_metrics(test_dataset, model_lodaded)\n",
    "\n",
    "print(f'Train PSNR: {train_psnr}, Train SSIM: {train_ssim}')\n",
    "print(f'Test PSNR: {test_psnr}, Test SSIM: {test_ssim}')\n"
   ]
  },
  {
   "cell_type": "code",
   "execution_count": null,
   "metadata": {},
   "outputs": [],
   "source": []
  },
  {
   "cell_type": "code",
   "execution_count": null,
   "metadata": {},
   "outputs": [],
   "source": []
  },
  {
   "cell_type": "code",
   "execution_count": null,
   "metadata": {},
   "outputs": [],
   "source": [
    "model.save"
   ]
  }
 ],
 "metadata": {
  "kernelspec": {
   "display_name": "tf_gpu_v2",
   "language": "python",
   "name": "python3"
  },
  "language_info": {
   "codemirror_mode": {
    "name": "ipython",
    "version": 3
   },
   "file_extension": ".py",
   "mimetype": "text/x-python",
   "name": "python",
   "nbconvert_exporter": "python",
   "pygments_lexer": "ipython3",
   "version": "3.9.16"
  },
  "orig_nbformat": 4
 },
 "nbformat": 4,
 "nbformat_minor": 2
}
